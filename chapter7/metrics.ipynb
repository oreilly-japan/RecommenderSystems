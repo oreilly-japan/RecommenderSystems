{
 "cells": [
  {
   "cell_type": "code",
   "execution_count": 1,
   "metadata": {},
   "outputs": [],
   "source": [
    "import numpy as np\n",
    "\n",
    "from typing import List"
   ]
  },
  {
   "cell_type": "markdown",
   "metadata": {},
   "source": [
    "# 예측 오차 지표"
   ]
  },
  {
   "cell_type": "code",
   "execution_count": 2,
   "metadata": {},
   "outputs": [],
   "source": [
    "r = [0, 1, 2, 3, 4]\n",
    "r_hat = [0.1, 1.1, 2.1, 3.1, 4.1]"
   ]
  },
  {
   "cell_type": "code",
   "execution_count": 3,
   "metadata": {},
   "outputs": [
    {
     "name": "stdout",
     "output_type": "stream",
     "text": [
      "0.09999999999999998\n"
     ]
    }
   ],
   "source": [
    "from sklearn.metrics import mean_absolute_error\n",
    "\n",
    "print(mean_absolute_error(r, r_hat))"
   ]
  },
  {
   "cell_type": "code",
   "execution_count": 4,
   "metadata": {},
   "outputs": [
    {
     "name": "stdout",
     "output_type": "stream",
     "text": [
      "0.009999999999999995\n"
     ]
    }
   ],
   "source": [
    "from sklearn.metrics import mean_squared_error\n",
    "\n",
    "print(mean_squared_error(r, r_hat))"
   ]
  },
  {
   "cell_type": "code",
   "execution_count": 5,
   "metadata": {},
   "outputs": [
    {
     "name": "stdout",
     "output_type": "stream",
     "text": [
      "0.09999999999999998\n"
     ]
    }
   ],
   "source": [
    "from sklearn.metrics import mean_squared_error\n",
    "\n",
    "print(np.sqrt(mean_squared_error(r, r_hat)))"
   ]
  },
  {
   "cell_type": "markdown",
   "metadata": {},
   "source": [
    "# 집합 평가 지표"
   ]
  },
  {
   "cell_type": "code",
   "execution_count": 6,
   "metadata": {},
   "outputs": [
    {
     "name": "stdout",
     "output_type": "stream",
     "text": [
      "0.3333333333333333\n"
     ]
    }
   ],
   "source": [
    "pred_item = [1, 2, 3, 4, 5]\n",
    "true_item = [2, 4, 6, 8]\n",
    "\n",
    "def precision_at_k(true_item: List[int], pred_item: List[int], k: int) -> float:\n",
    "    if k == 0:\n",
    "        return 0.0\n",
    "\n",
    "    p_at_k = (len(set(true_item) & set(pred_item[:k]))) / k\n",
    "    return p_at_k\n",
    "\n",
    "print(precision_at_k(true_item, pred_item, 3))"
   ]
  },
  {
   "cell_type": "code",
   "execution_count": 7,
   "metadata": {},
   "outputs": [
    {
     "name": "stdout",
     "output_type": "stream",
     "text": [
      "0.25\n"
     ]
    }
   ],
   "source": [
    "def recall_at_k(true_item: List[int], pred_item: List[int], k: int) -> float:\n",
    "    if len(true_item) == 0 or k == 0:\n",
    "        return 0.0\n",
    "\n",
    "    r_at_k = (len(set(true_item) & set(pred_item[:k]))) / len(true_item)\n",
    "    return r_at_k\n",
    "\n",
    "print(recall_at_k(true_item, pred_item, 3))"
   ]
  },
  {
   "cell_type": "code",
   "execution_count": 8,
   "metadata": {},
   "outputs": [
    {
     "name": "stdout",
     "output_type": "stream",
     "text": [
      "0.28571428571428575\n"
     ]
    }
   ],
   "source": [
    "def f1_at_k(true_item: List[int], pred_item: List[int], k: int) -> float:\n",
    "    precision = precision_at_k(true_item, pred_item, k)\n",
    "    recall = recall_at_k(true_item, pred_item, k)\n",
    "\n",
    "    if precision + recall == 0.0:\n",
    "        return 0.0\n",
    "\n",
    "    return 2 * precision * recall / (precision + recall)\n",
    "\n",
    "print(f1_at_k(true_item, pred_item, 3))"
   ]
  },
  {
   "cell_type": "markdown",
   "metadata": {},
   "source": [
    "# 순위 평가 지표"
   ]
  },
  {
   "cell_type": "code",
   "execution_count": 9,
   "metadata": {},
   "outputs": [
    {
     "name": "stdout",
     "output_type": "stream",
     "text": [
      "0.5\n",
      "0.5\n"
     ]
    }
   ],
   "source": [
    "def rr_at_k(user_relevance: List[int], k: int) -> float:\n",
    "    nonzero_indices = np.asarray(user_relevance).nonzero()[0]\n",
    "    if nonzero_indices.size > 0 and nonzero_indices[0] + 1 <= k:\n",
    "        return 1.0 / (nonzero_indices[0] + 1.0)\n",
    "    return 0.0\n",
    "\n",
    "print(rr_at_k([0, 1, 0], 2))\n",
    "\n",
    "def mrr_at_k(users_relevance: List[List[int]], k: int) -> float:\n",
    "    return float(\n",
    "        np.mean(\n",
    "            [rr_at_k(user_relevance, k) for user_relevance in users_relevance]\n",
    "        )\n",
    "    )\n",
    "\n",
    "print(mrr_at_k([[1, 0, 0], [0, 1, 0], [0, 0, 1]], 2))"
   ]
  },
  {
   "cell_type": "code",
   "execution_count": 10,
   "metadata": {},
   "outputs": [
    {
     "name": "stdout",
     "output_type": "stream",
     "text": [
      "0.5\n",
      "0.611111111111111\n"
     ]
    }
   ],
   "source": [
    "def ap_at_k(user_relevance: List[int], k: int) -> float:\n",
    "    if sum(user_relevance[:k]) == 0:\n",
    "        return 0.0\n",
    "    nonzero_indices = np.asarray(user_relevance[:k]).nonzero()[0]\n",
    "    return sum(\n",
    "        [sum(user_relevance[: idx + 1]) / (idx + 1) for idx in nonzero_indices]\n",
    "    ) / sum(user_relevance[:k])\n",
    "\n",
    "print(ap_at_k([0, 1, 0, 1, 0], 5))\n",
    "\n",
    "def map_at_k(users_relevance: List[List[int]], k: int) -> float:\n",
    "    return float(\n",
    "        np.mean(\n",
    "            [ap_at_k(user_relevance, k) for user_relevance in users_relevance]\n",
    "        )\n",
    "    )\n",
    "\n",
    "ls = [[1, 0, 0], [0, 1, 0], [0, 0, 1]]\n",
    "print(map_at_k(ls, 3))"
   ]
  },
  {
   "cell_type": "code",
   "execution_count": 11,
   "metadata": {},
   "outputs": [
    {
     "name": "stdout",
     "output_type": "stream",
     "text": [
      "0.8333333333333334\n"
     ]
    }
   ],
   "source": [
    "def dcg_at_k(user_relevance: List[int], k: int) -> float:\n",
    "    user_relevance = np.asfarray(user_relevance)[:k]\n",
    "    if user_relevance.size == 0:\n",
    "        return 0.0\n",
    "    return user_relevance[0] + np.sum(\n",
    "        user_relevance[1:] / np.log2(np.arange(2, user_relevance.size + 1))\n",
    "    )\n",
    "\n",
    "def ndcg_at_k(user_relevance: List[int], k: int) -> float:\n",
    "    dcg_max = dcg_at_k(sorted(user_relevance, reverse=True), k)\n",
    "    if not dcg_max:\n",
    "        return 0.0\n",
    "    return dcg_at_k(user_relevance, k) / dcg_max\n",
    "\n",
    "print(ndcg_at_k([0, 2, 0, 1, 0], 5))"
   ]
  }
 ],
 "metadata": {
  "kernelspec": {
   "display_name": "Python 3 (ipykernel)",
   "language": "python",
   "name": "python3"
  },
  "language_info": {
   "codemirror_mode": {
    "name": "ipython",
    "version": 3
   },
   "file_extension": ".py",
   "mimetype": "text/x-python",
   "name": "python",
   "nbconvert_exporter": "python",
   "pygments_lexer": "ipython3",
   "version": "3.10.8"
  }
 },
 "nbformat": 4,
 "nbformat_minor": 4
}
