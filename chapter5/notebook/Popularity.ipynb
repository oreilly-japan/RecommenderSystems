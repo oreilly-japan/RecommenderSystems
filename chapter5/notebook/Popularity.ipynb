{
 "cells": [
  {
   "cell_type": "markdown",
   "id": "4ffa2166",
   "metadata": {},
   "source": [
    "# 인기도순 추천\n",
    "## 인기도의 정의\n",
    "* 여기에서는 평갓값이 높은 것을 인기도가 높은 영화로 간주한다\n",
    "* 인기도의 정의는 '클릭 수가 많은 것', '구입이 많은 것', '평갓값이 높은 것' 등 다양하므로, 자사의 서비스에 적합한 정의를 사용한다\n"
   ]
  },
  {
   "cell_type": "code",
   "execution_count": null,
   "id": "13333f1c",
   "metadata": {},
   "outputs": [],
   "source": [
    "# 부모 폴더의 경로 추가\n",
    "import sys; sys.path.insert(0, '..')\n",
    "\n",
    "from util.data_loader import DataLoader\n",
    "from util.metric_calculator import MetricCalculator"
   ]
  },
  {
   "cell_type": "code",
   "execution_count": null,
   "id": "f0b3a8f5",
   "metadata": {},
   "outputs": [],
   "source": [
    "# Movielens 데이터 로딩\n",
    "data_loader = DataLoader(num_users=1000, num_test_items=5, data_path='../data/ml-10M100K/')\n",
    "movielens = data_loader.load()"
   ]
  },
  {
   "cell_type": "code",
   "execution_count": null,
   "id": "a4e56039",
   "metadata": {},
   "outputs": [],
   "source": [
    "import numpy as np\n",
    "\n",
    "# 평갓값이 높은 영화 확인\n",
    "movie_stats = movielens.train.groupby(['movie_id', 'title']).agg({'rating': [np.size, np.mean]})\n",
    "movie_stats.sort_values(by=('rating', 'mean'), ascending=False).head()"
   ]
  },
  {
   "cell_type": "code",
   "execution_count": null,
   "id": "fcb5ac3e",
   "metadata": {},
   "outputs": [],
   "source": [
    "# 임곗값을 도입\n",
    "movie_stats = movielens.train.groupby(['movie_id', 'title']).agg({'rating': [np.size, np.mean]})\n",
    "atleast_flg = movie_stats['rating']['size'] >= 100\n",
    "movies_sorted_by_rating = movie_stats[atleast_flg].sort_values(by=('rating', 'mean'), ascending=False)\n",
    "movies_sorted_by_rating.head()"
   ]
  },
  {
   "cell_type": "code",
   "execution_count": null,
   "id": "6c559fdc",
   "metadata": {},
   "outputs": [],
   "source": [
    "# 인기도 추천\n",
    "from src.popularity import PopularityRecommender\n",
    "recommender = PopularityRecommender()\n",
    "recommend_result = recommender.recommend(movielens, minimum_num_rating=100)"
   ]
  },
  {
   "cell_type": "code",
   "execution_count": null,
   "id": "ca8d383f",
   "metadata": {},
   "outputs": [],
   "source": [
    "# 평가\n",
    "metric_calculator = MetricCalculator()\n",
    "metrics = metric_calculator.calc(\n",
    "    movielens.test.rating.tolist(), recommend_result.rating.tolist(),\n",
    "    movielens.test_user2items, recommend_result.user2items, k=10)\n",
    "print(metrics)"
   ]
  },
  {
   "cell_type": "code",
   "execution_count": null,
   "id": "fd52c464",
   "metadata": {},
   "outputs": [],
   "source": [
    "# 임곗값을 변경했을 때의 동작\n",
    "for minimum_num_rating in [1, 200]:\n",
    "    recommend_result = recommender.recommend(movielens, minimum_num_rating=minimum_num_rating)\n",
    "    metrics = metric_calculator.calc(\n",
    "        movielens.test.rating.tolist(), recommend_result.rating.tolist(),\n",
    "        movielens.test_user2items, recommend_result.user2items, k=10)\n",
    "    print(metrics)"
   ]
  }
 ],
 "metadata": {
  "kernelspec": {
   "display_name": "Python 3 (ipykernel)",
   "language": "python",
   "name": "python3"
  },
  "language_info": {
   "codemirror_mode": {
    "name": "ipython",
    "version": 3
   },
   "file_extension": ".py",
   "mimetype": "text/x-python",
   "name": "python",
   "nbconvert_exporter": "python",
   "pygments_lexer": "ipython3",
   "version": "3.10.8"
  }
 },
 "nbformat": 4,
 "nbformat_minor": 5
}
