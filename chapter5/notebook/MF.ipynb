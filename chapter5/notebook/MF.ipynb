{
 "cells": [
  {
   "cell_type": "markdown",
   "id": "47e2fec5",
   "metadata": {},
   "source": [
    "# Matrix Factorization"
   ]
  },
  {
   "cell_type": "code",
   "execution_count": 1,
   "id": "99e09acf",
   "metadata": {},
   "outputs": [],
   "source": [
    "# 親のフォルダのパスを追加\n",
    "import sys; sys.path.insert(0, '..')\n",
    "\n",
    "from util.data_loader import DataLoader\n",
    "from util.metric_calculator import MetricCalculator"
   ]
  },
  {
   "cell_type": "code",
   "execution_count": 2,
   "id": "179ce864",
   "metadata": {},
   "outputs": [],
   "source": [
    "# Movielensのデータの読み込み\n",
    "data_loader = DataLoader(num_users=1000, num_test_items=5, data_path='../data/ml-10M100K/')\n",
    "movielens = data_loader.load()"
   ]
  },
  {
   "cell_type": "code",
   "execution_count": 3,
   "id": "48aed5ee",
   "metadata": {},
   "outputs": [],
   "source": [
    "# MFレコメンド\n",
    "from src.mf import MFRecommender\n",
    "recommender = MFRecommender()\n",
    "recommend_result = recommender.recommend(movielens)"
   ]
  },
  {
   "cell_type": "code",
   "execution_count": 4,
   "id": "ab4ed572",
   "metadata": {},
   "outputs": [
    {
     "name": "stdout",
     "output_type": "stream",
     "text": [
      "rmse=1.051, Precision@K=0.010, Recall@K=0.035\n"
     ]
    }
   ],
   "source": [
    "#  評価\n",
    "metric_calculator = MetricCalculator()\n",
    "metrics = metric_calculator.calc(\n",
    "    movielens.test.rating.tolist(), recommend_result.rating.tolist(),\n",
    "    movielens.test_user2items, recommend_result.user2items, k=10)\n",
    "print(metrics)"
   ]
  },
  {
   "cell_type": "code",
   "execution_count": 5,
   "id": "ed2edb2d",
   "metadata": {},
   "outputs": [
    {
     "name": "stdout",
     "output_type": "stream",
     "text": [
      "rmse=0.939, Precision@K=0.006, Recall@K=0.019\n",
      "rmse=0.952, Precision@K=0.006, Recall@K=0.018\n",
      "rmse=1.044, Precision@K=0.013, Recall@K=0.040\n",
      "rmse=1.138, Precision@K=0.016, Recall@K=0.053\n"
     ]
    }
   ],
   "source": [
    "# 評価数のしきい値と精度の関係\n",
    "for minimum_num_rating in [0, 10, 100, 300]:\n",
    "    recommend_result = recommender.recommend(movielens, minimum_num_rating=minimum_num_rating)\n",
    "    metrics = metric_calculator.calc(\n",
    "    movielens.test.rating.tolist(), recommend_result.rating.tolist(),\n",
    "    movielens.test_user2items, recommend_result.user2items, k=10)\n",
    "    print(metrics)"
   ]
  },
  {
   "cell_type": "code",
   "execution_count": 6,
   "id": "6cb9724e",
   "metadata": {},
   "outputs": [
    {
     "name": "stdout",
     "output_type": "stream",
     "text": [
      "rmse=1.045, Precision@K=0.012, Recall@K=0.040\n",
      "rmse=1.051, Precision@K=0.013, Recall@K=0.042\n",
      "rmse=1.048, Precision@K=0.015, Recall@K=0.051\n"
     ]
    }
   ],
   "source": [
    "# 因子数kと精度の関係\n",
    "for factors in [5, 10, 30]:\n",
    "    recommend_result = recommender.recommend(movielens, factors=factors)\n",
    "    metrics = metric_calculator.calc(\n",
    "    movielens.test.rating.tolist(), recommend_result.rating.tolist(),\n",
    "    movielens.test_user2items, recommend_result.user2items, k=10)\n",
    "    print(metrics)"
   ]
  },
  {
   "cell_type": "code",
   "execution_count": 8,
   "id": "8c10d538",
   "metadata": {},
   "outputs": [
    {
     "name": "stdout",
     "output_type": "stream",
     "text": [
      "rmse=1.148, Precision@K=0.017, Recall@K=0.054\n",
      "rmse=1.152, Precision@K=0.016, Recall@K=0.052\n",
      "rmse=1.160, Precision@K=0.017, Recall@K=0.055\n",
      "rmse=1.174, Precision@K=0.015, Recall@K=0.052\n"
     ]
    }
   ],
   "source": [
    "# 因子数kと精度の関係\n",
    "for factors in [256, 512, 1024, 2048]:\n",
    "    recommend_result = recommender.recommend(movielens, factors=factors, minimum_num_rating=300)\n",
    "    metrics = metric_calculator.calc(\n",
    "    movielens.test.rating.tolist(), recommend_result.rating.tolist(),\n",
    "    movielens.test_user2items, recommend_result.user2items, k=10)\n",
    "    print(metrics)"
   ]
  },
  {
   "cell_type": "code",
   "execution_count": 9,
   "id": "a9df8375",
   "metadata": {},
   "outputs": [
    {
     "name": "stdout",
     "output_type": "stream",
     "text": [
      "rmse=1.147, Precision@K=0.017, Recall@K=0.057\n",
      "rmse=1.152, Precision@K=0.016, Recall@K=0.055\n",
      "rmse=1.156, Precision@K=0.016, Recall@K=0.055\n",
      "rmse=1.164, Precision@K=0.017, Recall@K=0.057\n"
     ]
    }
   ],
   "source": [
    "# 因子数kと精度の関係\n",
    "for factors in [256, 512, 1024, 2048]:\n",
    "    recommend_result = recommender.recommend(movielens, factors=factors, minimum_num_rating=300,n_epochs=100)\n",
    "    metrics = metric_calculator.calc(\n",
    "    movielens.test.rating.tolist(), recommend_result.rating.tolist(),\n",
    "    movielens.test_user2items, recommend_result.user2items, k=10)\n",
    "    print(metrics)"
   ]
  },
  {
   "cell_type": "code",
   "execution_count": null,
   "id": "7a3b3a82",
   "metadata": {},
   "outputs": [],
   "source": []
  }
 ],
 "metadata": {
  "kernelspec": {
   "display_name": "Python 3 (ipykernel)",
   "language": "python",
   "name": "python3"
  },
  "language_info": {
   "codemirror_mode": {
    "name": "ipython",
    "version": 3
   },
   "file_extension": ".py",
   "mimetype": "text/x-python",
   "name": "python",
   "nbconvert_exporter": "python",
   "pygments_lexer": "ipython3",
   "version": "3.9.15"
  }
 },
 "nbformat": 4,
 "nbformat_minor": 5
}
