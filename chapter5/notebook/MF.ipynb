{
 "cells": [
  {
   "cell_type": "markdown",
   "id": "47e2fec5",
   "metadata": {},
   "source": [
    "# 행렬 분해(Matrix Factorization, MF)"
   ]
  },
  {
   "cell_type": "code",
   "execution_count": null,
   "id": "99e09acf",
   "metadata": {},
   "outputs": [],
   "source": [
    "# 부모 폴더의 경로를 추가\n",
    "import sys; sys.path.insert(0, '..')\n",
    "\n",
    "from util.data_loader import DataLoader\n",
    "from util.metric_calculator import MetricCalculator"
   ]
  },
  {
   "cell_type": "code",
   "execution_count": null,
   "id": "179ce864",
   "metadata": {},
   "outputs": [],
   "source": [
    "# Movielens 데이터 로딩\n",
    "data_loader = DataLoader(num_users=1000, num_test_items=5, data_path='../data/ml-10M100K/')\n",
    "movielens = data_loader.load()"
   ]
  },
  {
   "cell_type": "code",
   "execution_count": null,
   "id": "48aed5ee",
   "metadata": {},
   "outputs": [],
   "source": [
    "# MF 추천\n",
    "from src.mf import MFRecommender\n",
    "recommender = MFRecommender()\n",
    "recommend_result = recommender.recommend(movielens)"
   ]
  },
  {
   "cell_type": "code",
   "execution_count": null,
   "id": "ab4ed572",
   "metadata": {},
   "outputs": [],
   "source": [
    "# 평가\n",
    "metric_calculator = MetricCalculator()\n",
    "metrics = metric_calculator.calc(\n",
    "    movielens.test.rating.tolist(), recommend_result.rating.tolist(),\n",
    "    movielens.test_user2items, recommend_result.user2items, k=10)\n",
    "print(metrics)"
   ]
  },
  {
   "cell_type": "code",
   "execution_count": null,
   "id": "ed2edb2d",
   "metadata": {},
   "outputs": [],
   "source": [
    "# 평가 수의 임곗값과 정밀도의 관계\n",
    "for minimum_num_rating in [0, 10, 100, 300]:\n",
    "    recommend_result = recommender.recommend(movielens, minimum_num_rating=minimum_num_rating)\n",
    "    metrics = metric_calculator.calc(\n",
    "    movielens.test.rating.tolist(), recommend_result.rating.tolist(),\n",
    "    movielens.test_user2items, recommend_result.user2items, k=10)\n",
    "    print(metrics)"
   ]
  },
  {
   "cell_type": "code",
   "execution_count": null,
   "id": "6cb9724e",
   "metadata": {},
   "outputs": [],
   "source": [
    "# 인자 수 k와 정밀도의 관계\n",
    "for factors in [5, 10, 30]:\n",
    "    recommend_result = recommender.recommend(movielens, factors=factors)\n",
    "    metrics = metric_calculator.calc(\n",
    "    movielens.test.rating.tolist(), recommend_result.rating.tolist(),\n",
    "    movielens.test_user2items, recommend_result.user2items, k=10)\n",
    "    print(metrics)"
   ]
  },
  {
   "cell_type": "code",
   "execution_count": null,
   "id": "8c10d538",
   "metadata": {},
   "outputs": [],
   "source": []
  }
 ],
 "metadata": {
  "kernelspec": {
   "display_name": "Python 3 (ipykernel)",
   "language": "python",
   "name": "python3"
  },
  "language_info": {
   "codemirror_mode": {
    "name": "ipython",
    "version": 3
   },
   "file_extension": ".py",
   "mimetype": "text/x-python",
   "name": "python",
   "nbconvert_exporter": "python",
   "pygments_lexer": "ipython3",
   "version": "3.10.8"
  }
 },
 "nbformat": 4,
 "nbformat_minor": 5
}
