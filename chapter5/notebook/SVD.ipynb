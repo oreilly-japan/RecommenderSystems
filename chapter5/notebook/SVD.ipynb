{
 "cells": [
  {
   "cell_type": "markdown",
   "id": "05fd5c37",
   "metadata": {},
   "source": [
    "# 특잇값 분해(Singular Value Decomposition, SVD)"
   ]
  },
  {
   "cell_type": "code",
   "execution_count": null,
   "id": "5e2540ed",
   "metadata": {},
   "outputs": [],
   "source": [
    "# 부모 폴더의 경로 추가\n",
    "import sys; sys.path.insert(0, '..')\n",
    "\n",
    "from util.data_loader import DataLoader\n",
    "from util.metric_calculator import MetricCalculator"
   ]
  },
  {
   "cell_type": "code",
   "execution_count": null,
   "id": "a8895ba7",
   "metadata": {},
   "outputs": [],
   "source": [
    "# Movielens 데이터 로딩\n",
    "data_loader = DataLoader(num_users=1000, num_test_items=5, data_path='../data/ml-10M100K/')\n",
    "movielens = data_loader.load()"
   ]
  },
  {
   "cell_type": "code",
   "execution_count": null,
   "id": "ebe3329b",
   "metadata": {},
   "outputs": [],
   "source": [
    "user_movie_matrix = movielens.train.pivot(index='user_id', columns='movie_id', values='rating')\n",
    "user_movie_matrix"
   ]
  },
  {
   "cell_type": "code",
   "execution_count": null,
   "id": "22c0909b",
   "metadata": {},
   "outputs": [],
   "source": [
    "# 희소 정보\n",
    "user_num = len(user_movie_matrix.index)\n",
    "item_num = len(user_movie_matrix.columns)\n",
    "non_null_num = user_num*item_num - user_movie_matrix.isnull().sum().sum()\n",
    "non_null_ratio = non_null_num / (user_num*item_num)\n",
    "\n",
    "print(f'사용자 수={user_num}, 아이템 수={item_num}, 정밀도={non_null_ratio:.2f}')"
   ]
  },
  {
   "cell_type": "code",
   "execution_count": null,
   "id": "8942aa7b",
   "metadata": {},
   "outputs": [],
   "source": [
    "user_movie_matrix.fillna(0)"
   ]
  },
  {
   "cell_type": "code",
   "execution_count": null,
   "id": "75ee52d8",
   "metadata": {},
   "outputs": [],
   "source": [
    "import scipy\n",
    "import numpy as np\n",
    "\n",
    "# 평갓값을 사용자 x 영화의 행렬로 변환. 결손값은 평균값으로 채운다\n",
    "user_movie_matrix = movielens.train.pivot(index='user_id', columns='movie_id', values='rating')\n",
    "user_id2index = dict(zip(user_movie_matrix.index, range(len(user_movie_matrix.index))))\n",
    "movie_id2index = dict(zip(user_movie_matrix.columns, range(len(user_movie_matrix.columns))))\n",
    "matrix = user_movie_matrix.fillna(movielens.train.rating.mean()).to_numpy()\n",
    "\n",
    "\n",
    "# 인자 수 x 특이값 분해를 수행한다\n",
    "P, S, Qt = scipy.sparse.linalg.svds(matrix, k=5)\n",
    "\n",
    "# 예측 평갓값 행렬\n",
    "pred_matrix = np.dot(np.dot(P, np.diag(S)), Qt)\n",
    "\n",
    "print(f\"P: {P.shape}, S: {S.shape}, Qt: {Qt.shape}, pred_matrix: {pred_matrix.shape}\")"
   ]
  },
  {
   "cell_type": "code",
   "execution_count": null,
   "id": "2a761397",
   "metadata": {},
   "outputs": [],
   "source": [
    "# SVD 추천\n",
    "from src.svd import SVDRecommender\n",
    "recommender = SVDRecommender()\n",
    "recommend_result = recommender.recommend(movielens)"
   ]
  },
  {
   "cell_type": "code",
   "execution_count": null,
   "id": "c895f553",
   "metadata": {},
   "outputs": [],
   "source": [
    "# 평가\n",
    "metric_calculator = MetricCalculator()\n",
    "metrics = metric_calculator.calc(\n",
    "    movielens.test.rating.tolist(), recommend_result.rating.tolist(),\n",
    "    movielens.test_user2items, recommend_result.user2items, k=10)\n",
    "print(metrics)"
   ]
  },
  {
   "cell_type": "code",
   "execution_count": null,
   "id": "d4e03ece",
   "metadata": {},
   "outputs": [],
   "source": [
    "# 결손값을 평균값으로 채운다\n",
    "recommend_result = recommender.recommend(movielens, fillna_with_zero=False)\n",
    "metrics = metric_calculator.calc(\n",
    "movielens.test.rating.tolist(), recommend_result.rating.tolist(),\n",
    "movielens.test_user2items, recommend_result.user2items, k=10)\n",
    "print(metrics)"
   ]
  },
  {
   "cell_type": "code",
   "execution_count": null,
   "id": "1f95570c",
   "metadata": {},
   "outputs": [],
   "source": [
    "# 인자 수와 정밀도의 관계\n",
    "for factors in [5, 10, 30]:\n",
    "    recommend_result = recommender.recommend(movielens, factors=factors, fillna_with_zero=False)\n",
    "    metrics = metric_calculator.calc(\n",
    "    movielens.test.rating.tolist(), recommend_result.rating.tolist(),\n",
    "    movielens.test_user2items, recommend_result.user2items, k=10)\n",
    "    print(metrics)"
   ]
  },
  {
   "cell_type": "code",
   "execution_count": null,
   "id": "14a45925",
   "metadata": {},
   "outputs": [],
   "source": []
  }
 ],
 "metadata": {
  "kernelspec": {
   "display_name": "Python 3 (ipykernel)",
   "language": "python",
   "name": "python3"
  },
  "language_info": {
   "codemirror_mode": {
    "name": "ipython",
    "version": 3
   },
   "file_extension": ".py",
   "mimetype": "text/x-python",
   "name": "python",
   "nbconvert_exporter": "python",
   "pygments_lexer": "ipython3",
   "version": "3.10.8"
  }
 },
 "nbformat": 4,
 "nbformat_minor": 5
}
