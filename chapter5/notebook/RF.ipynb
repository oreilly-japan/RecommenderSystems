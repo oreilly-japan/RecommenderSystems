{
 "cells": [
  {
   "cell_type": "code",
   "execution_count": 1,
   "id": "f5b2cf43-9653-4899-950f-b00443bd4020",
   "metadata": {},
   "outputs": [],
   "source": [
    "%load_ext autoreload\n",
    "%autoreload 2"
   ]
  },
  {
   "cell_type": "code",
   "execution_count": 2,
   "id": "52eedd0b",
   "metadata": {},
   "outputs": [],
   "source": [
    "# 親のフォルダのパスを追加\n",
    "import sys; sys.path.insert(0, '..')\n",
    "\n",
    "from util.data_loader import DataLoader\n",
    "from util.metric_calculator import MetricCalculator"
   ]
  },
  {
   "cell_type": "code",
   "execution_count": 3,
   "id": "d3c02fa7",
   "metadata": {},
   "outputs": [],
   "source": [
    "# Movielensのデータの読み込み\n",
    "data_loader = DataLoader(num_users=1000, num_test_items=5, data_path='../data/ml-10M100K/')\n",
    "movielens = data_loader.load()"
   ]
  },
  {
   "cell_type": "code",
   "execution_count": 4,
   "id": "c8b4d83e",
   "metadata": {},
   "outputs": [],
   "source": [
    "# Random Forest を用いた回帰レコメンド\n",
    "from src.rf import RFRecommender\n",
    "# from src.rf_clf import RFRecommender\n",
    "recommender = RFRecommender()"
   ]
  },
  {
   "cell_type": "code",
   "execution_count": 5,
   "id": "253e5f67",
   "metadata": {},
   "outputs": [
    {
     "name": "stderr",
     "output_type": "stream",
     "text": [
      "C:\\Users\\tmina\\Google ドライブ\\github\\RecommenderSystems\\chapter5\\notebook\\..\\src\\rf_clf.py:22: UserWarning: Boolean Series key will be reindexed to match DataFrame index.\n",
      "  movielens_train_high_rating = filtered_movielens_train[dataset.train.rating >= 4]\n",
      "C:\\Users\\tmina\\Google ドライブ\\github\\RecommenderSystems\\chapter5\\notebook\\..\\src\\rf_clf.py:68: SettingWithCopyWarning: \n",
      "A value is trying to be set on a copy of a slice from a DataFrame.\n",
      "Try using .loc[row_indexer,col_indexer] = value instead\n",
      "\n",
      "See the caveats in the documentation: https://pandas.pydata.org/pandas-docs/stable/user_guide/indexing.html#returning-a-view-versus-a-copy\n",
      "  movie_genres[f\"is_{genre}\"] = movie_genres.genre.apply(lambda x: genre in x)\n"
     ]
    },
    {
     "name": "stdout",
     "output_type": "stream",
     "text": [
      "(24128, 3)\n",
      "(1000, 6673)\n",
      "rmse=3.708, Precision@K=0.002, Recall@K=0.007\n"
     ]
    }
   ],
   "source": [
    "#  評価\n",
    "recommend_result = recommender.recommend(movielens,minimum_num_rating=300)\n",
    "metric_calculator = MetricCalculator()\n",
    "metrics = metric_calculator.calc(\n",
    "    movielens.test.rating.tolist(), recommend_result.rating.tolist(),\n",
    "    movielens.test_user2items, recommend_result.user2items, k=10)\n",
    "print(metrics)"
   ]
  },
  {
   "cell_type": "code",
   "execution_count": null,
   "id": "683d7c01-91e8-4835-b9cc-332b16c13966",
   "metadata": {},
   "outputs": [],
   "source": []
  }
 ],
 "metadata": {
  "kernelspec": {
   "display_name": "Python 3 (ipykernel)",
   "language": "python",
   "name": "python3"
  },
  "language_info": {
   "codemirror_mode": {
    "name": "ipython",
    "version": 3
   },
   "file_extension": ".py",
   "mimetype": "text/x-python",
   "name": "python",
   "nbconvert_exporter": "python",
   "pygments_lexer": "ipython3",
   "version": "3.9.15"
  }
 },
 "nbformat": 4,
 "nbformat_minor": 5
}
