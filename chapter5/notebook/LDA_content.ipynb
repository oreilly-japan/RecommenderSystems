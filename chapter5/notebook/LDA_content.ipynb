{
 "cells": [
  {
   "cell_type": "markdown",
   "id": "98853cdc",
   "metadata": {},
   "source": [
    "# 잠재 디리클레 할당(Latent Dirichlet Allocation, LDA)"
   ]
  },
  {
   "cell_type": "code",
   "execution_count": null,
   "id": "dd0a4718",
   "metadata": {},
   "outputs": [],
   "source": [
    "# 부모 폴더의 경로 추가\n",
    "import sys; sys.path.insert(0, '..')\n",
    "\n",
    "from util.data_loader import DataLoader\n",
    "from util.metric_calculator import MetricCalculator"
   ]
  },
  {
   "cell_type": "code",
   "execution_count": null,
   "id": "38f1eabd",
   "metadata": {},
   "outputs": [],
   "source": [
    "# Movielens 데이터 로딩\n",
    "data_loader = DataLoader(num_users=1000, num_test_items=5, data_path='../data/ml-10M100K/')\n",
    "movielens = data_loader.load()"
   ]
  },
  {
   "cell_type": "code",
   "execution_count": null,
   "id": "56ca8b83",
   "metadata": {},
   "outputs": [],
   "source": [
    "import gensim\n",
    "import logging\n",
    "from gensim.corpora.dictionary import Dictionary\n",
    "\n",
    "movie_content = movielens.item_content.copy()\n",
    "# tag가 부여되어 있지 않은 영화도 있지만, genre는 모든 영화에 부여되어 있다\n",
    "# tag와 genre를 결합한 것을 영화 콘텐츠 정보로 해서 비슷한 영화를 찾아 추천한다\n",
    "# tag가 없는 영화는 NaN으로 되어 있으므로, 빈 리스트로 변환한 뒤 처리한다\n",
    "movie_content['tag_genre'] = movie_content['tag'].fillna(\"\").apply(list) + movie_content['genre'].apply(list)\n",
    "movie_content['tag_genre'] = movie_content['tag_genre'].apply(lambda x:list(map(str, x)))\n",
    "\n",
    "# 태그와 장르 데이터를 사용해 LDA를 학습한다\n",
    "tag_genre_data = movie_content.tag_genre.tolist()\n",
    "\n",
    "logging.basicConfig(format='%(asctime)s : %(levelname)s : %(message)s', level=logging.INFO)\n",
    "common_dictionary = Dictionary(tag_genre_data)\n",
    "common_corpus = [common_dictionary.doc2bow(text) for text in tag_genre_data]\n",
    "\n",
    "# LDA 학습\n",
    "lda_model = gensim.models.LdaModel(common_corpus, id2word=common_dictionary, num_topics=50, passes=30)\n",
    "lda_topics = lda_model[common_corpus]\n",
    "\n",
    "\n"
   ]
  },
  {
   "cell_type": "code",
   "execution_count": null,
   "id": "30924a14",
   "metadata": {},
   "outputs": [],
   "source": [
    "# LDAContent추천\n",
    "from src.lda_content import LDAContentRecommender\n",
    "recommender = LDAContentRecommender()\n",
    "recommend_result = recommender.recommend(movielens)"
   ]
  },
  {
   "cell_type": "code",
   "execution_count": null,
   "id": "25fadb68",
   "metadata": {},
   "outputs": [],
   "source": [
    "# 평가\n",
    "metric_calculator = MetricCalculator()\n",
    "metrics = metric_calculator.calc(\n",
    "    movielens.test.rating.tolist(), recommend_result.rating.tolist(),\n",
    "    movielens.test_user2items, recommend_result.user2items, k=10)\n",
    "print(metrics)"
   ]
  },
  {
   "cell_type": "code",
   "execution_count": null,
   "id": "ea40c411",
   "metadata": {},
   "outputs": [],
   "source": []
  }
 ],
 "metadata": {
  "kernelspec": {
   "display_name": "Python 3 (ipykernel)",
   "language": "python",
   "name": "python3"
  },
  "language_info": {
   "codemirror_mode": {
    "name": "ipython",
    "version": 3
   },
   "file_extension": ".py",
   "mimetype": "text/x-python",
   "name": "python",
   "nbconvert_exporter": "python",
   "pygments_lexer": "ipython3",
   "version": "3.10.8"
  }
 },
 "nbformat": 4,
 "nbformat_minor": 5
}
