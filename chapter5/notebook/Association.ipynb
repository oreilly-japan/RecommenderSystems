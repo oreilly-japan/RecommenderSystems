{
 "cells": [
  {
   "cell_type": "markdown",
   "id": "c7dc31f1",
   "metadata": {},
   "source": [
    "# 어소시에이션 분석(Apriori 알고리즘)"
   ]
  },
  {
   "cell_type": "code",
   "execution_count": null,
   "id": "1b316a16",
   "metadata": {},
   "outputs": [],
   "source": [
    "# 부모 폴더의 경로를 추가\n",
    "import sys; sys.path.insert(0, '..')\n",
    "\n",
    "from util.data_loader import DataLoader\n",
    "from util.metric_calculator import MetricCalculator"
   ]
  },
  {
   "cell_type": "code",
   "execution_count": null,
   "id": "c1b8db75",
   "metadata": {},
   "outputs": [],
   "source": [
    "# Movielens 데이터 로딩\n",
    "data_loader = DataLoader(num_users=1000, num_test_items=5, data_path='../data/ml-10M100K/')\n",
    "movielens = data_loader.load()"
   ]
  },
  {
   "cell_type": "code",
   "execution_count": null,
   "id": "f29c7aac",
   "metadata": {},
   "outputs": [],
   "source": [
    "# 사용자 x 영화 행렬 형식으로 변환한다\n",
    "user_movie_matrix = movielens_train.pivot(index='user_id', columns='movie_id', values='rating')\n",
    "\n",
    "# 라이브러리를 사용하기 위해 4 이상의 평갓값은 1, 4 미만의 평갓값과 결손값은 0으로 한다\n",
    "user_movie_matrix[user_movie_matrix < 4] = 0\n",
    "user_movie_matrix[user_movie_matrix.isnull()] = 0\n",
    "user_movie_matrix[user_movie_matrix >= 4] = 1\n",
    "\n",
    "user_movie_matrix.head()"
   ]
  },
  {
   "cell_type": "code",
   "execution_count": null,
   "id": "ac2211c8",
   "metadata": {},
   "outputs": [],
   "source": [
    "from mlxtend.frequent_patterns import apriori\n",
    "\n",
    "# 지지도가 높은 영화를 표시\n",
    "freq_movies = apriori(\n",
    "    user_movie_matrix, min_support=0.1, use_colnames=True)\n",
    "freq_movies.sort_values('support', ascending=False).head()"
   ]
  },
  {
   "cell_type": "code",
   "execution_count": null,
   "id": "18be737d",
   "metadata": {},
   "outputs": [],
   "source": [
    "# movie_id=593의 제목 확인(양들의 침묵)\n",
    "movielens.item_content[movielens.item_content.movie_id == 593]"
   ]
  },
  {
   "cell_type": "code",
   "execution_count": null,
   "id": "470dafd1",
   "metadata": {},
   "outputs": [],
   "source": [
    "from mlxtend.frequent_patterns import association_rules\n",
    "# 어소시에이션 규칙 계산(리프트 값이 높은 순으로 표시)\n",
    "rules = association_rules(freq_movies, metric='lift', min_threshold=1)\n",
    "rules.sort_values('lift', ascending=False).head()[['antecedents', 'consequents', 'lift']]"
   ]
  },
  {
   "cell_type": "code",
   "execution_count": null,
   "id": "7414301d",
   "metadata": {},
   "outputs": [],
   "source": [
    "# 어소시에이션 추천\n",
    "from src.association import AssociationRecommender\n",
    "recommender = AssociationRecommender()\n",
    "recommend_result = recommender.recommend(movielens)"
   ]
  },
  {
   "cell_type": "code",
   "execution_count": null,
   "id": "6c2f4856",
   "metadata": {},
   "outputs": [],
   "source": [
    "# 평가\n",
    "metric_calculator = MetricCalculator()\n",
    "metrics = metric_calculator.calc(\n",
    "    movielens.test.rating.tolist(), recommend_result.rating.tolist(),\n",
    "    movielens.test_user2items, recommend_result.user2items, k=10)\n",
    "print(metrics)"
   ]
  },
  {
   "cell_type": "code",
   "execution_count": null,
   "id": "f50bd7a9",
   "metadata": {},
   "outputs": [],
   "source": [
    "# min_support와 정밀도의 관계\n",
    "for min_support in [0.06, 0.07, 0.08, 0.09, 0.1, 0.11]:\n",
    "    recommend_result = recommender.recommend(movielens, min_support=min_support)\n",
    "    metrics = metric_calculator.calc(\n",
    "    movielens.test.rating.tolist(), recommend_result.rating.tolist(),\n",
    "    movielens.test_user2items, recommend_result.user2items, k=10)\n",
    "    print(metrics)"
   ]
  },
  {
   "cell_type": "code",
   "execution_count": null,
   "id": "49c1a5cb",
   "metadata": {},
   "outputs": [],
   "source": []
  }
 ],
 "metadata": {
  "kernelspec": {
   "display_name": "Python 3 (ipykernel)",
   "language": "python",
   "name": "python3"
  },
  "language_info": {
   "codemirror_mode": {
    "name": "ipython",
    "version": 3
   },
   "file_extension": ".py",
   "mimetype": "text/x-python",
   "name": "python",
   "nbconvert_exporter": "python",
   "pygments_lexer": "ipython3",
   "version": "3.10.8"
  }
 },
 "nbformat": 4,
 "nbformat_minor": 5
}
