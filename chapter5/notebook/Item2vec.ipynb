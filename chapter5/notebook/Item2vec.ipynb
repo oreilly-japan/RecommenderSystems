{
 "cells": [
  {
   "cell_type": "markdown",
   "id": "e9d7e57d",
   "metadata": {},
   "source": [
    "# Item2vec"
   ]
  },
  {
   "cell_type": "code",
   "execution_count": null,
   "id": "5d70dbb6",
   "metadata": {},
   "outputs": [],
   "source": [
    "# 부모 폴더의 경로 추가\n",
    "import sys; sys.path.insert(0, '..')\n",
    "\n",
    "from util.data_loader import DataLoader\n",
    "from util.metric_calculator import MetricCalculator"
   ]
  },
  {
   "cell_type": "code",
   "execution_count": null,
   "id": "c4f50ee4",
   "metadata": {},
   "outputs": [],
   "source": [
    "# Movielens 데이터 로딩\n",
    "data_loader = DataLoader(num_users=1000, num_test_items=5, data_path='../data/ml-10M100K/')\n",
    "movielens = data_loader.load()"
   ]
  },
  {
   "cell_type": "code",
   "execution_count": null,
   "id": "52933f31",
   "metadata": {},
   "outputs": [],
   "source": [
    "# Item2vecContent 추천\n",
    "from src.item2vec import Item2vecRecommender\n",
    "recommender = Item2vecRecommender()\n",
    "recommend_result = recommender.recommend(movielens)"
   ]
  },
  {
   "cell_type": "code",
   "execution_count": null,
   "id": "d63c29a2",
   "metadata": {},
   "outputs": [],
   "source": [
    "# 평가\n",
    "metric_calculator = MetricCalculator()\n",
    "metrics = metric_calculator.calc(\n",
    "    movielens.test.rating.tolist(), recommend_result.rating.tolist(),\n",
    "    movielens.test_user2items, recommend_result.user2items, k=10)\n",
    "print(metrics)"
   ]
  }
 ],
 "metadata": {
  "kernelspec": {
   "display_name": "Python 3 (ipykernel)",
   "language": "python",
   "name": "python3"
  },
  "language_info": {
   "codemirror_mode": {
    "name": "ipython",
    "version": 3
   },
   "file_extension": ".py",
   "mimetype": "text/x-python",
   "name": "python",
   "nbconvert_exporter": "python",
   "pygments_lexer": "ipython3",
   "version": "3.10.8"
  }
 },
 "nbformat": 4,
 "nbformat_minor": 5
}
