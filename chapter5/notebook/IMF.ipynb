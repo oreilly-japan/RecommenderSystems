{
 "cells": [
  {
   "cell_type": "markdown",
   "id": "c0dccd9c",
   "metadata": {},
   "source": [
    "# Implicit Matrix Factorization"
   ]
  },
  {
   "cell_type": "code",
   "execution_count": 1,
   "id": "c302ab23",
   "metadata": {},
   "outputs": [],
   "source": [
    "# 親のフォルダのパスを追加\n",
    "import sys; sys.path.insert(0, '..')\n",
    "\n",
    "from util.data_loader import DataLoader\n",
    "from util.metric_calculator import MetricCalculator"
   ]
  },
  {
   "cell_type": "code",
   "execution_count": 2,
   "id": "4f1322e1",
   "metadata": {},
   "outputs": [],
   "source": [
    "# Movielensのデータの読み込み\n",
    "data_loader = DataLoader(num_users=1000, num_test_items=5, data_path='../data/ml-10M100K/')\n",
    "movielens = data_loader.load()"
   ]
  },
  {
   "cell_type": "code",
   "execution_count": 3,
   "id": "bf47abe9",
   "metadata": {},
   "outputs": [
    {
     "name": "stderr",
     "output_type": "stream",
     "text": [
      "C:\\Users\\tmina\\Anaconda3\\envs\\recom\\lib\\site-packages\\tqdm\\auto.py:22: TqdmWarning: IProgress not found. Please update jupyter and ipywidgets. See https://ipywidgets.readthedocs.io/en/stable/user_install.html\n",
      "  from .autonotebook import tqdm as notebook_tqdm\n",
      "100%|█████████████████████████████████████████████████████████████████████| 50/50 [00:02<00:00, 16.84it/s, loss=0.0096]\n"
     ]
    }
   ],
   "source": [
    "# Implicit Matrix Factorizationレコメンド\n",
    "from src.imf import IMFRecommender\n",
    "recommender = IMFRecommender()\n",
    "recommend_result = recommender.recommend(movielens)"
   ]
  },
  {
   "cell_type": "code",
   "execution_count": 4,
   "id": "3d3a78ae",
   "metadata": {},
   "outputs": [
    {
     "name": "stdout",
     "output_type": "stream",
     "text": [
      "rmse=0.000, Precision@K=0.026, Recall@K=0.080\n"
     ]
    }
   ],
   "source": [
    "#  評価\n",
    "metric_calculator = MetricCalculator()\n",
    "metrics = metric_calculator.calc(\n",
    "    movielens.test.rating.tolist(), recommend_result.rating.tolist(),\n",
    "    movielens.test_user2items, recommend_result.user2items, k=10)\n",
    "print(metrics)"
   ]
  },
  {
   "cell_type": "code",
   "execution_count": 5,
   "id": "e5b4f9e9",
   "metadata": {},
   "outputs": [
    {
     "name": "stderr",
     "output_type": "stream",
     "text": [
      "100%|█████████████████████████████████████████████████████████████████████| 50/50 [00:02<00:00, 23.43it/s, loss=0.0103]\n"
     ]
    },
    {
     "name": "stdout",
     "output_type": "stream",
     "text": [
      "rmse=0.000, Precision@K=0.022, Recall@K=0.070\n"
     ]
    },
    {
     "name": "stderr",
     "output_type": "stream",
     "text": [
      "100%|█████████████████████████████████████████████████████████████████████| 50/50 [00:02<00:00, 16.83it/s, loss=0.0096]\n"
     ]
    },
    {
     "name": "stdout",
     "output_type": "stream",
     "text": [
      "rmse=0.000, Precision@K=0.026, Recall@K=0.080\n"
     ]
    },
    {
     "name": "stderr",
     "output_type": "stream",
     "text": [
      "100%|████████████████████████████████████████████████████████████████████| 50/50 [00:08<00:00,  5.80it/s, loss=0.00808]\n"
     ]
    },
    {
     "name": "stdout",
     "output_type": "stream",
     "text": [
      "rmse=0.000, Precision@K=0.026, Recall@K=0.079\n"
     ]
    }
   ],
   "source": [
    "# 因子数と精度の関係\n",
    "for factors in [5, 10, 30]:\n",
    "    recommend_result = recommender.recommend(movielens, factors=factors)\n",
    "    metrics = metric_calculator.calc(\n",
    "    movielens.test.rating.tolist(), recommend_result.rating.tolist(),\n",
    "    movielens.test_user2items, recommend_result.user2items, k=10)\n",
    "    print(metrics)"
   ]
  },
  {
   "cell_type": "code",
   "execution_count": 6,
   "id": "d15321f9",
   "metadata": {},
   "outputs": [
    {
     "name": "stderr",
     "output_type": "stream",
     "text": [
      "100%|█████████████████████████████████████████████████████████████████████| 50/50 [00:02<00:00, 16.83it/s, loss=0.0054]\n"
     ]
    },
    {
     "name": "stdout",
     "output_type": "stream",
     "text": [
      "rmse=0.000, Precision@K=0.025, Recall@K=0.075\n"
     ]
    },
    {
     "name": "stderr",
     "output_type": "stream",
     "text": [
      "100%|█████████████████████████████████████████████████████████████████████| 50/50 [00:02<00:00, 16.81it/s, loss=0.0096]\n"
     ]
    },
    {
     "name": "stdout",
     "output_type": "stream",
     "text": [
      "rmse=0.000, Precision@K=0.026, Recall@K=0.080\n"
     ]
    },
    {
     "name": "stderr",
     "output_type": "stream",
     "text": [
      "100%|█████████████████████████████████████████████████████████████████████| 50/50 [00:02<00:00, 16.83it/s, loss=0.0162]\n"
     ]
    },
    {
     "name": "stdout",
     "output_type": "stream",
     "text": [
      "rmse=0.000, Precision@K=0.024, Recall@K=0.075\n"
     ]
    },
    {
     "name": "stderr",
     "output_type": "stream",
     "text": [
      "100%|█████████████████████████████████████████████████████████████████████| 50/50 [00:02<00:00, 16.87it/s, loss=0.0292]\n"
     ]
    },
    {
     "name": "stdout",
     "output_type": "stream",
     "text": [
      "rmse=0.000, Precision@K=0.023, Recall@K=0.072\n"
     ]
    }
   ],
   "source": [
    "# alphaと精度の関係\n",
    "for alpha in [0.5, 1.0, 2.0, 5.0]:\n",
    "    recommend_result = recommender.recommend(movielens, alpha=alpha)\n",
    "    metrics = metric_calculator.calc(\n",
    "    movielens.test.rating.tolist(), recommend_result.rating.tolist(),\n",
    "    movielens.test_user2items, recommend_result.user2items, k=10)\n",
    "    print(metrics)"
   ]
  },
  {
   "cell_type": "code",
   "execution_count": 7,
   "id": "79120322",
   "metadata": {},
   "outputs": [
    {
     "name": "stderr",
     "output_type": "stream",
     "text": [
      "100%|██████████████████████████████████████████████████████████████████| 100/100 [00:59<00:00,  1.67it/s, loss=0.00218]\n"
     ]
    },
    {
     "name": "stdout",
     "output_type": "stream",
     "text": [
      "rmse=0.000, Precision@K=0.019, Recall@K=0.059\n"
     ]
    },
    {
     "name": "stderr",
     "output_type": "stream",
     "text": [
      "100%|█████████████████████████████████████████████████████████████████| 100/100 [01:07<00:00,  1.47it/s, loss=0.000562]\n"
     ]
    },
    {
     "name": "stdout",
     "output_type": "stream",
     "text": [
      "rmse=0.000, Precision@K=0.010, Recall@K=0.036\n"
     ]
    },
    {
     "name": "stderr",
     "output_type": "stream",
     "text": [
      "100%|██████████████████████████████████████████████████████████████████| 100/100 [01:18<00:00,  1.28it/s, loss=9.16e-5]\n"
     ]
    },
    {
     "name": "stdout",
     "output_type": "stream",
     "text": [
      "rmse=0.000, Precision@K=0.015, Recall@K=0.047\n"
     ]
    },
    {
     "name": "stderr",
     "output_type": "stream",
     "text": [
      "100%|██████████████████████████████████████████████████████████████████| 100/100 [02:07<00:00,  1.28s/it, loss=9.48e-5]\n"
     ]
    },
    {
     "name": "stdout",
     "output_type": "stream",
     "text": [
      "rmse=0.000, Precision@K=0.015, Recall@K=0.046\n"
     ]
    }
   ],
   "source": [
    "# 因子数と精度の関係\n",
    "for factors in [256, 512, 1024, 2048]:\n",
    "    recommend_result = recommender.recommend(movielens, factors=factors, alpha=1,n_epochs=100)\n",
    "    metrics = metric_calculator.calc(\n",
    "    movielens.test.rating.tolist(), recommend_result.rating.tolist(),\n",
    "    movielens.test_user2items, recommend_result.user2items, k=10)\n",
    "    print(metrics)"
   ]
  },
  {
   "cell_type": "code",
   "execution_count": null,
   "id": "a5fc03fe",
   "metadata": {},
   "outputs": [],
   "source": []
  }
 ],
 "metadata": {
  "kernelspec": {
   "display_name": "Python 3 (ipykernel)",
   "language": "python",
   "name": "python3"
  },
  "language_info": {
   "codemirror_mode": {
    "name": "ipython",
    "version": 3
   },
   "file_extension": ".py",
   "mimetype": "text/x-python",
   "name": "python",
   "nbconvert_exporter": "python",
   "pygments_lexer": "ipython3",
   "version": "3.9.15"
  }
 },
 "nbformat": 4,
 "nbformat_minor": 5
}
