{
 "cells": [
  {
   "cell_type": "markdown",
   "id": "f8caaceb",
   "metadata": {},
   "source": [
    "# 사용자-사용자 메모리 기반 방법 협조 필터링(User-User Memory Based Collaborative Filtering)"
   ]
  },
  {
   "cell_type": "code",
   "execution_count": null,
   "id": "ac7fbf6b-c4d2-471c-8cd9-4ba3097f4d99",
   "metadata": {},
   "outputs": [],
   "source": [
    "%load_ext autoreload\n",
    "%autoreload 2"
   ]
  },
  {
   "cell_type": "code",
   "execution_count": null,
   "id": "9cb2f773",
   "metadata": {},
   "outputs": [],
   "source": [
    "# 부모 폴더의 경로를 추가\n",
    "import sys; sys.path.insert(0, '..')\n",
    "\n",
    "from util.data_loader import DataLoader\n",
    "from util.metric_calculator import MetricCalculator"
   ]
  },
  {
   "cell_type": "code",
   "execution_count": null,
   "id": "ed3c6a08",
   "metadata": {},
   "outputs": [],
   "source": [
    "# Movielens 데이터 로딩\n",
    "data_loader = DataLoader(num_users=1000, num_test_items=5, data_path='./data/ml-10M100K/')\n",
    "movielens = data_loader.load()"
   ]
  },
  {
   "cell_type": "code",
   "execution_count": null,
   "id": "40bfe18c-e5b2-45fe-870a-e2769ffdfcb4",
   "metadata": {},
   "outputs": [],
   "source": [
    "from src.umcf import UMCFRecommender"
   ]
  },
  {
   "cell_type": "code",
   "execution_count": null,
   "id": "afd52c43",
   "metadata": {
    "tags": []
   },
   "outputs": [],
   "source": [
    "\n",
    "recommender = UMCFRecommender()\n",
    "recommend_result = recommender.recommend(movielens, is_naive=True)"
   ]
  },
  {
   "cell_type": "code",
   "execution_count": null,
   "id": "48b2ed3a",
   "metadata": {},
   "outputs": [],
   "source": [
    "# 평가\n",
    "metric_calculator = MetricCalculator()\n",
    "metrics = metric_calculator.calc(\n",
    "    movielens.test.rating.tolist(), recommend_result.rating.tolist(),\n",
    "    movielens.test_user2items, recommend_result.user2items, k=10)\n",
    "print(metrics)"
   ]
  },
  {
   "cell_type": "code",
   "execution_count": null,
   "id": "dae52b44-2ddc-4111-8622-65b0fced59a4",
   "metadata": {},
   "outputs": [],
   "source": []
  },
  {
   "cell_type": "code",
   "execution_count": null,
   "id": "5701ea33-b2b1-4e26-af9e-41fc1453522c",
   "metadata": {},
   "outputs": [],
   "source": [
    "recommender = UMCFRecommender()\n",
    "recommend_result = recommender.recommend(movielens, is_naive=False)"
   ]
  },
  {
   "cell_type": "code",
   "execution_count": null,
   "id": "504aa258-feca-4fea-b509-5e3199e4914d",
   "metadata": {},
   "outputs": [],
   "source": [
    "# 평가\n",
    "metric_calculator = MetricCalculator()\n",
    "metrics = metric_calculator.calc(\n",
    "    movielens.test.rating.tolist(), recommend_result.rating.tolist(),\n",
    "    movielens.test_user2items, recommend_result.user2items, k=10)\n",
    "print(metrics)"
   ]
  },
  {
   "cell_type": "code",
   "execution_count": null,
   "id": "ff148555-35f5-4362-87fb-75f0a8d5d33f",
   "metadata": {},
   "outputs": [],
   "source": []
  }
 ],
 "metadata": {
  "kernelspec": {
   "display_name": "Python 3 (ipykernel)",
   "language": "python",
   "name": "python3"
  },
  "language_info": {
   "codemirror_mode": {
    "name": "ipython",
    "version": 3
   },
   "file_extension": ".py",
   "mimetype": "text/x-python",
   "name": "python",
   "nbconvert_exporter": "python",
   "pygments_lexer": "ipython3",
   "version": "3.10.8"
  }
 },
 "nbformat": 4,
 "nbformat_minor": 5
}
