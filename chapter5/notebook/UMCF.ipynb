{
 "cells": [
  {
   "cell_type": "markdown",
   "id": "f8caaceb",
   "metadata": {},
   "source": [
    "# ユーザー間型メモリベース法協調フィルタリング"
   ]
  },
  {
   "cell_type": "code",
   "execution_count": 4,
   "id": "ac7fbf6b-c4d2-471c-8cd9-4ba3097f4d99",
   "metadata": {},
   "outputs": [
    {
     "name": "stdout",
     "output_type": "stream",
     "text": [
      "The autoreload extension is already loaded. To reload it, use:\n",
      "  %reload_ext autoreload\n"
     ]
    }
   ],
   "source": [
    "%load_ext autoreload\n",
    "%autoreload 2"
   ]
  },
  {
   "cell_type": "code",
   "execution_count": 5,
   "id": "9cb2f773",
   "metadata": {},
   "outputs": [],
   "source": [
    "# 親のフォルダのパスを追加\n",
    "import sys; sys.path.insert(0, '..')\n",
    "\n",
    "from util.data_loader import DataLoader\n",
    "from util.metric_calculator import MetricCalculator"
   ]
  },
  {
   "cell_type": "code",
   "execution_count": 6,
   "id": "ed3c6a08",
   "metadata": {},
   "outputs": [],
   "source": [
    "# Movielensのデータの読み込み\n",
    "data_loader = DataLoader(num_users=1000, num_test_items=5, data_path='../data/ml-10M100K/')\n",
    "movielens = data_loader.load()"
   ]
  },
  {
   "cell_type": "code",
   "execution_count": 7,
   "id": "40bfe18c-e5b2-45fe-870a-e2769ffdfcb4",
   "metadata": {},
   "outputs": [],
   "source": [
    "from src.umcf import UMCFRecommender"
   ]
  },
  {
   "cell_type": "code",
   "execution_count": 8,
   "id": "afd52c43",
   "metadata": {
    "tags": []
   },
   "outputs": [],
   "source": [
    "\n",
    "recommender = UMCFRecommender()\n",
    "recommend_result = recommender.recommend(movielens, is_naive=True)"
   ]
  },
  {
   "cell_type": "code",
   "execution_count": 9,
   "id": "48b2ed3a",
   "metadata": {},
   "outputs": [
    {
     "name": "stdout",
     "output_type": "stream",
     "text": [
      "rmse=0.956, Precision@K=0.000, Recall@K=0.000\n"
     ]
    }
   ],
   "source": [
    "#  評価\n",
    "metric_calculator = MetricCalculator()\n",
    "metrics = metric_calculator.calc(\n",
    "    movielens.test.rating.tolist(), recommend_result.rating.tolist(),\n",
    "    movielens.test_user2items, recommend_result.user2items, k=10)\n",
    "print(metrics)"
   ]
  },
  {
   "cell_type": "code",
   "execution_count": null,
   "id": "dae52b44-2ddc-4111-8622-65b0fced59a4",
   "metadata": {},
   "outputs": [],
   "source": []
  },
  {
   "cell_type": "code",
   "execution_count": 10,
   "id": "5701ea33-b2b1-4e26-af9e-41fc1453522c",
   "metadata": {},
   "outputs": [
    {
     "name": "stdout",
     "output_type": "stream",
     "text": [
      "Computing the pearson similarity matrix...\n",
      "Done computing similarity matrix.\n"
     ]
    }
   ],
   "source": [
    "recommender = UMCFRecommender()\n",
    "recommend_result = recommender.recommend(movielens, is_naive=False)"
   ]
  },
  {
   "cell_type": "code",
   "execution_count": 11,
   "id": "504aa258-feca-4fea-b509-5e3199e4914d",
   "metadata": {},
   "outputs": [
    {
     "name": "stdout",
     "output_type": "stream",
     "text": [
      "rmse=0.962, Precision@K=0.002, Recall@K=0.005\n"
     ]
    }
   ],
   "source": [
    "#  評価\n",
    "metric_calculator = MetricCalculator()\n",
    "metrics = metric_calculator.calc(\n",
    "    movielens.test.rating.tolist(), recommend_result.rating.tolist(),\n",
    "    movielens.test_user2items, recommend_result.user2items, k=10)\n",
    "print(metrics)"
   ]
  },
  {
   "cell_type": "code",
   "execution_count": null,
   "id": "ff148555-35f5-4362-87fb-75f0a8d5d33f",
   "metadata": {},
   "outputs": [],
   "source": []
  }
 ],
 "metadata": {
  "kernelspec": {
   "display_name": "Python 3 (ipykernel)",
   "language": "python",
   "name": "python3"
  },
  "language_info": {
   "codemirror_mode": {
    "name": "ipython",
    "version": 3
   },
   "file_extension": ".py",
   "mimetype": "text/x-python",
   "name": "python",
   "nbconvert_exporter": "python",
   "pygments_lexer": "ipython3",
   "version": "3.9.15"
  }
 },
 "nbformat": 4,
 "nbformat_minor": 5
}
